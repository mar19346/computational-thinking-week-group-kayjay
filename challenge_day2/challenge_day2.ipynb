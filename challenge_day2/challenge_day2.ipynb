{
 "cells": [
  {
   "attachments": {},
   "cell_type": "markdown",
   "metadata": {},
   "source": [
    "# Observation Challenge\n",
    "\n",
    "In this challenge, you have to create an algorithm based on several algorithm parts.\n",
    "\n",
    "## Stations\n",
    "Across the JK building, we have placed several stations. At each station, you can find sample inputs and their expected outputs for one of the algorithm parts.\n",
    "You must decipher the algorithm behind each station yourself.\n",
    "The locations of all the stations are listed where Lukas and Roland are sitting.\n",
    "\n",
    "# Your task\n",
    "- Create files in this directory named station1.py, station2.py, etc.\n",
    "- Each member of the team must commit (including any changes) at least one of these files.\n",
    "- Each of these files contains a function named solution_station_X(), where X is the station number, same as the file name\n",
    "- Fill out the cell below and generate the correct overall output\n",
    "- You are allowed to use all built-in Python modules, as well as numpy and pandas in your solutions."
   ]
  },
  {
   "cell_type": "code",
   "execution_count": 1,
   "metadata": {},
   "outputs": [
    {
     "ename": "AttributeError",
     "evalue": "module 'edutest' has no attribute 'TestCase'",
     "output_type": "error",
     "traceback": [
      "\u001b[1;31m---------------------------------------------------------------------------\u001b[0m",
      "\u001b[1;31mAttributeError\u001b[0m                            Traceback (most recent call last)",
      "Cell \u001b[1;32mIn[1], line 1\u001b[0m\n\u001b[1;32m----> 1\u001b[0m \u001b[38;5;28;01mfrom\u001b[39;00m \u001b[38;5;21;01mtests\u001b[39;00m \u001b[38;5;28;01mimport\u001b[39;00m tests\n\u001b[0;32m      2\u001b[0m \u001b[38;5;28;01mfrom\u001b[39;00m \u001b[38;5;21;01mstation1\u001b[39;00m \u001b[38;5;28;01mimport\u001b[39;00m solution_station_1\n\u001b[0;32m      3\u001b[0m \u001b[38;5;28;01mfrom\u001b[39;00m \u001b[38;5;21;01mstation2\u001b[39;00m \u001b[38;5;28;01mimport\u001b[39;00m solution_station_2\n",
      "File \u001b[1;32mc:\\Users\\mar19\\OneDrive - UvA\\semester3\\robot camp\\computational-thinking-week-group-kayjay\\challenge_day2\\tests\\tests.py:7\u001b[0m\n\u001b[0;32m      4\u001b[0m sys\u001b[38;5;241m.\u001b[39mpath\u001b[38;5;241m.\u001b[39mappend(os\u001b[38;5;241m.\u001b[39mpath\u001b[38;5;241m.\u001b[39mjoin(os\u001b[38;5;241m.\u001b[39mpath\u001b[38;5;241m.\u001b[39mdirname(os\u001b[38;5;241m.\u001b[39mpath\u001b[38;5;241m.\u001b[39mdirname(os\u001b[38;5;241m.\u001b[39mpath\u001b[38;5;241m.\u001b[39mdirname(\u001b[38;5;18m__file__\u001b[39m))), \u001b[38;5;124m'\u001b[39m\u001b[38;5;124mutility\u001b[39m\u001b[38;5;124m'\u001b[39m, \u001b[38;5;124m'\u001b[39m\u001b[38;5;124medutest\u001b[39m\u001b[38;5;124m'\u001b[39m))\n\u001b[0;32m      5\u001b[0m \u001b[38;5;28;01mimport\u001b[39;00m \u001b[38;5;21;01medutest\u001b[39;00m\n\u001b[1;32m----> 7\u001b[0m \u001b[38;5;28;01mclass\u001b[39;00m \u001b[38;5;21;01mTest_Exercise_Values\u001b[39;00m(\u001b[43medutest\u001b[49m\u001b[38;5;241;43m.\u001b[39;49m\u001b[43mTestCase\u001b[49m):\n\u001b[0;32m      8\u001b[0m     \u001b[38;5;28;01mdef\u001b[39;00m \u001b[38;5;21mtest\u001b[39m(\u001b[38;5;28mself\u001b[39m):\n\u001b[0;32m      9\u001b[0m         \u001b[38;5;28mself\u001b[39m\u001b[38;5;241m.\u001b[39mio_pair((\u001b[38;5;124m'\u001b[39m\u001b[38;5;124m00:01\u001b[39m\u001b[38;5;124m'\u001b[39m, \u001b[38;5;241m5\u001b[39m, \u001b[38;5;124m'\u001b[39m\u001b[38;5;124m1990-01-01\u001b[39m\u001b[38;5;124m'\u001b[39m, \u001b[38;5;241m3\u001b[39m, \u001b[38;5;241m1\u001b[39m, \u001b[38;5;124m'\u001b[39m\u001b[38;5;124mEmma\u001b[39m\u001b[38;5;124m'\u001b[39m, \u001b[38;5;241m9\u001b[39m, \u001b[38;5;124m'\u001b[39m\u001b[38;5;124ma+b\u001b[39m\u001b[38;5;124m'\u001b[39m), \u001b[38;5;241m3.5190509710811696e+16\u001b[39m)\n",
      "\u001b[1;31mAttributeError\u001b[0m: module 'edutest' has no attribute 'TestCase'"
     ]
    }
   ],
   "source": [
    "from tests import tests\n",
    "from station1 import solution_station_1\n",
    "from station2 import solution_station_2\n",
    "from station3 import solution_station_3\n",
    "from station4 import solution_station_4\n",
    "from station5 import solution_station_5\n",
    "from station6 import solution_station_6\n",
    "from station7 import solution_station_7\n",
    "\n",
    "# List three observations of all inputs (not sample inputs) observed at the same time\n",
    "# Format: (time: str, station1_input: int, station2_input: str, station3_input: int, station4_input: int, station5_input: str, station6_input: int, station7_input: str)\n",
    "# Example: ('12:30:00', 1, '1990-01-01', 2, 3, \"John\", 4, \"e=mc^2\")\n",
    "observation1 = ('09:50:00', 1, '2024-07-30', 60655, 6065, \"Josy\", 60, \"e*d\")\n",
    "observation2 = ('09:50:10', 1, '2024-03-31', 20660, 3734, \"Calson\", 37, \"a*d\")\n",
    "observation3 = ('09:50:20', 1, '2024-03-24', 99452, 9945, \"Meng\", 99, \"c*a\")\n",
    "\n",
    "def combined_algorithm(observations: tuple) -> int:\n",
    "    output1 = solution_station_1(observations[1])\n",
    "    output2 = solution_station_2(observations[2])\n",
    "    output3 = solution_station_3(observations[3])\n",
    "    output4 = solution_station_4(observations[4])\n",
    "    output5 = solution_station_5(observations[5])\n",
    "    output6 = solution_station_6(observations[6])\n",
    "    output7 = solution_station_7(observations[7])\n",
    "    assert isinstance(output1, int)\n",
    "    assert isinstance(output2, str)\n",
    "    assert isinstance(output3, bool)\n",
    "    assert isinstance(output4, bool)\n",
    "    assert isinstance(output5, int)\n",
    "    assert isinstance(output6, float)\n",
    "    assert isinstance(output7, float)\n",
    "    return output1 * int.from_bytes(output2[0].encode(\"unicode_escape\"), byteorder='big') * (3 if output3 else 2) * (5 if output4 else 4) * output5 * output6 * output7\n",
    "\n",
    "FINAL_OUTPUT1 = combined_algorithm(observation1)\n",
    "FINAL_OUTPUT2 = combined_algorithm(observation2)\n",
    "FINAL_OUTPUT3 = combined_algorithm(observation3)\n",
    "tests.Test_Exercise(combined_algorithm);"
   ]
  }
 ],
 "metadata": {
  "kernelspec": {
   "display_name": "Python 3.10.5 64-bit",
   "language": "python",
   "name": "python3"
  },
  "language_info": {
   "codemirror_mode": {
    "name": "ipython",
    "version": 3
   },
   "file_extension": ".py",
   "mimetype": "text/x-python",
   "name": "python",
   "nbconvert_exporter": "python",
   "pygments_lexer": "ipython3",
   "version": "3.12.3"
  },
  "orig_nbformat": 4,
  "vscode": {
   "interpreter": {
    "hash": "2f9d6cf1e3d8195079a65c851de355134a77367bcd714b1a5d498c42d3c07114"
   }
  }
 },
 "nbformat": 4,
 "nbformat_minor": 2
}
